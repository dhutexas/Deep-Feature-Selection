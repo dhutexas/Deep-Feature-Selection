{
 "cells": [
  {
   "cell_type": "markdown",
   "metadata": {
    "toc": true
   },
   "source": [
    "<h1>Table of Contents<span class=\"tocSkip\"></span></h1>\n",
    "<div class=\"toc\"><ul class=\"toc-item\"><li><span><a href=\"#User-Guide-on-nonlinear-example\" data-toc-modified-id=\"User-Guide-on-nonlinear-example-1\"><span class=\"toc-item-num\">1&nbsp;&nbsp;</span>User Guide on nonlinear example</a></span><ul class=\"toc-item\"><li><span><a href=\"#Data-Preparation\" data-toc-modified-id=\"Data-Preparation-1.1\"><span class=\"toc-item-num\">1.1&nbsp;&nbsp;</span>Data Preparation</a></span></li><li><span><a href=\"#DFS-with-fixed-hyper-parameters\" data-toc-modified-id=\"DFS-with-fixed-hyper-parameters-1.2\"><span class=\"toc-item-num\">1.2&nbsp;&nbsp;</span>DFS with fixed hyper-parameters</a></span></li><li><span><a href=\"#Selection-of-$s$\" data-toc-modified-id=\"Selection-of-$s$-1.3\"><span class=\"toc-item-num\">1.3&nbsp;&nbsp;</span>Selection of $s$</a></span></li></ul></li></ul></div>"
   ]
  },
  {
   "cell_type": "markdown",
   "metadata": {},
   "source": [
    "# Deep Feature Selection\n",
    "In this notebook, we will demonstrate how to implement our method on the nonlinear simulation examples from our paper.\n",
    "## User Guide on nonlinear example\n",
    "In this example, a high dimensional dataset with 500 covariates and 300 observations is generated using the following equation\n",
    "\n",
    "\\begin{equation}\n",
    "    y=\\begin{cases}\n",
    "        1, & e^{x_1} + x_2^2 + 5\\sin(x_3 x_4) - 3 > 0\\\\\n",
    "        0, & \\text{otherwise,}\n",
    "    \\end{cases}\n",
    "\\end{equation}\n",
    "\n",
    "i.e. among 500 covariates, only the first 4 variables actually contributed to the response. Our task is to correctly select the important variables. Please see section 5.2 of the paper for detailed generation process."
   ]
  },
  {
   "cell_type": "code",
   "execution_count": 1,
   "metadata": {
    "tags": []
   },
   "outputs": [],
   "source": [
    "import sys\n",
    "sys.path.append(\"../../src\")\n",
    "from time import clock\n",
    "import numpy as np\n",
    "import math\n",
    "import pandas as pd\n",
    "import matplotlib.pyplot as plt\n",
    "import torch\n",
    "import torch.nn.functional as F\n",
    "from torch.autograd import Variable\n",
    "from torch.autograd import grad\n",
    "from torch.nn.parameter import Parameter\n",
    "from utils import data_load_n, data_load_l, measure, accuracy\n",
    "from models import Net_nonlinear, Net_linear\n",
    "from dfs import DFS_epoch, training_n"
   ]
  },
  {
   "cell_type": "markdown",
   "metadata": {},
   "source": [
    "### Data Preparation\n",
    "We will load our data in the following chunk. The data, both covariates and response, need to be load as `pytorch` `Tensor` objects to be fed into the DFS algorithm. The function `data_load_n` will read in dataset and split it into training and test set so that both sets have same number of positive and negative samples."
   ]
  },
  {
   "cell_type": "code",
   "execution_count": 2,
   "metadata": {},
   "outputs": [
    {
     "name": "stdout",
     "output_type": "stream",
     "text": [
      "The covariates is of type: <class 'torch.Tensor'>\n",
      "The response is of type: <class 'torch.Tensor'>\n",
      "\n",
      "The dimension of training set: torch.Size([300, 500])\n",
      "    The number of positive sample: 150\n",
      "    The number of negative sample: 150\n",
      "\n",
      "The dimension of test set: torch.Size([300, 500])\n",
      "    The number of positive sample: 150\n",
      "    The number of negative sample: 150\n"
     ]
    }
   ],
   "source": [
    "# load and prepare datasets\n",
    "dirc = \"../../data/nonlinear/p_500_N_600_s_4/\"\n",
    "k = 0 # dataset number from 0 to 9\n",
    "X, Y, X_test, Y_test = data_load_n(k, directory=dirc)\n",
    "N, p = X.shape\n",
    "print(\"The covariates is of type:\", type(X))\n",
    "print(\"The response is of type:\", type(Y))\n",
    "print()\n",
    "print(\"The dimension of training set:\", X.shape)\n",
    "print(\"    The number of positive sample:\", len(np.where(Y==1)[0]))\n",
    "print(\"    The number of negative sample:\", len(np.where(Y==0)[0]))\n",
    "print()\n",
    "print(\"The dimension of test set:\", X.shape)\n",
    "print(\"    The number of positive sample:\", len(np.where(Y_test==1)[0]))\n",
    "print(\"    The number of negative sample:\", len(np.where(Y_test==0)[0]))"
   ]
  },
  {
   "cell_type": "markdown",
   "metadata": {},
   "source": [
    "### DFS with fixed hyper-parameters\n",
    "In this section, we demonstrate how to run DFS with one given set of hyper-parameters. The hyper-parameters includes:\n",
    "* `s`, the number of variables to be selected;\n",
    "* `c`, the tunning parameters to control the magnitude of $\\lambda_1$ and $\\lambda_2$;\n",
    "* `epochs`, the number of DFS iterations to be run;\n",
    "* `n_hidden1` & `n_hidden2`, the number of neurons in the fully connect neural networks;\n",
    "* `learning_rate`, the learning rate for optimizer;\n",
    "* `Ts` & `step`, the parameters to control the optimization on given support\n",
    "\n",
    "Among the above hyper-parameters, `s` is the most important parameters, and the selection of $s$ will be demonstrated in next sections. `c` can be selection through a sequence of candidates that returns the smallest loss function. Others mostly are meant to help the convergence of the optimization steps."
   ]
  },
  {
   "cell_type": "code",
   "execution_count": 3,
   "metadata": {
    "scrolled": true
   },
   "outputs": [
    {
     "name": "stderr",
     "output_type": "stream",
     "text": [
      "C:\\Users\\Wyndows\\anaconda3\\envs\\pytorch\\lib\\site-packages\\ipykernel_launcher.py:42: DeprecationWarning: time.clock has been deprecated in Python 3.3 and will be removed from Python 3.8: use time.perf_counter or time.process_time instead\n"
     ]
    },
    {
     "name": "stdout",
     "output_type": "stream",
     "text": [
      "Training finished in 2 epochs, and took 1.4149964000000015 seconds\n"
     ]
    },
    {
     "name": "stderr",
     "output_type": "stream",
     "text": [
      "C:\\Users\\Wyndows\\anaconda3\\envs\\pytorch\\lib\\site-packages\\ipykernel_launcher.py:59: DeprecationWarning: time.clock has been deprecated in Python 3.3 and will be removed from Python 3.8: use time.perf_counter or time.process_time instead\n"
     ]
    }
   ],
   "source": [
    "# specify hyper-paramters\n",
    "s = 4\n",
    "c = 1\n",
    "epochs = 10\n",
    "n_hidden1 = 50\n",
    "n_hidden2 = 10\n",
    "learning_rate = 0.05\n",
    "Ts = 25 # To avoid long time waiting, this parameter has been shorten\n",
    "step = 5\n",
    "\n",
    "\n",
    "# Define Model\n",
    "torch.manual_seed(1) # set seed\n",
    "# Define a model with pre-specified structure and hyper parameters\n",
    "model = Net_nonlinear(n_feature=p, n_hidden1=n_hidden1, n_hidden2=n_hidden2, n_output=2)\n",
    "# Define another model to save the current best model based on loss function value\n",
    "# The purpose is to prevent divergence of the training due to large learning rate or other reason\n",
    "best_model = Net_nonlinear(n_feature=p, n_hidden1=n_hidden1, n_hidden2=n_hidden2, n_output=2)\n",
    "\n",
    "\n",
    "# Define optimizers for the optimization with given support\n",
    "# optimizer to separately optimize the hidden layers and selection layers\n",
    "# the selection layer will be optimized on given support only.\n",
    "# the optimzation of hidden layers and selection layer will take turn in iterations\n",
    "optimizer = torch.optim.Adam(list(model.parameters()), lr=learning_rate, weight_decay=0.0025*c)\n",
    "optimizer0 = torch.optim.Adam(model.hidden0.parameters(), lr=learning_rate, weight_decay=0.0005*c)\n",
    "\n",
    "\n",
    "# Define loss function\n",
    "lf = torch.nn.CrossEntropyLoss()\n",
    "\n",
    "\n",
    "# Allocated some objects to keep track of changes over iterations\n",
    "hist = []\n",
    "SUPP = []\n",
    "LOSSES = []\n",
    "supp_x = list(range(p)) # initial support\n",
    "SUPP.append(supp_x)\n",
    "\n",
    "\n",
    "### DFS algorithm\n",
    "start = clock()\n",
    "for i in range(epochs):\n",
    "    # One DFS epoch\n",
    "    model, supp_x, LOSS = DFS_epoch(model, s, supp_x, X, Y, lf, optimizer0, optimizer, Ts, step)\n",
    "    LOSSES = LOSSES + LOSS\n",
    "    supp_x.sort()\n",
    "    # Save current loss function value and support\n",
    "    hist.append(lf(model(X), Y).data.numpy().tolist())\n",
    "    SUPP.append(supp_x)\n",
    "    # Prevent divergence of optimization over support, save the current best model\n",
    "    if hist[-1] == min(hist):\n",
    "        best_model.load_state_dict(model.state_dict())\n",
    "        best_supp = supp_x\n",
    "    # Early stop criteria\n",
    "    if len(SUPP[-1]) == len(SUPP[-2]) and (SUPP[-1] == SUPP[-2]).all():\n",
    "        break\n",
    "\n",
    "end = clock()\n",
    "print(\"Training finished in\" , len(SUPP)-1, \"epochs, and took\", end-start, \"seconds\")"
   ]
  },
  {
   "cell_type": "markdown",
   "metadata": {},
   "source": [
    "In the following chunk, we will demonstrate the results from the DFS algorithm, in terms of selected support, training error and test error for __one step__ procedure."
   ]
  },
  {
   "cell_type": "code",
   "execution_count": 4,
   "metadata": {},
   "outputs": [
    {
     "name": "stdout",
     "output_type": "stream",
     "text": [
      "The support selected is: [0 1 2 3]\n",
      "The index of non-zero coefficents on selection layer: [0 1 2 3]\n",
      "The training error is: 0.0033333333333332993\n",
      "The test error is: 0.046666666666666634\n"
     ]
    }
   ],
   "source": [
    "### Metric calculation\n",
    "err_train_1 = 1-accuracy(best_model, X, Y)\n",
    "err_test_1 = 1-accuracy(best_model, X_test, Y_test)\n",
    "print(\"The support selected is:\", best_supp)\n",
    "print(\"The index of non-zero coefficents on selection layer:\", \n",
    "      np.where(best_model.hidden0.weight != 0)[0])\n",
    "print(\"The training error is:\", err_train_1)\n",
    "print(\"The test error is:\", err_test_1)"
   ]
  },
  {
   "cell_type": "markdown",
   "metadata": {},
   "source": [
    "From the results above, we have successfully selected the right support, i.e. the first 4 variables. (Note in `python` starting index is 0)\n",
    "\n",
    "In the following chunk, we will perform a two-step procedure to train the `best_model` on the given support.\n",
    "\n",
    "Two-step procedure is used for two reasons, to get better predictive performance and to get better estimation of $bic$ which is important in selection of optimal $s$.\n",
    "\n",
    "As we demonstrated on the above chunk, the selection layer of `best_model` has non-zero coefficients on given support. In the second step, we treat `best_model` as our initial model and update parameters only in hidden layer."
   ]
  },
  {
   "cell_type": "code",
   "execution_count": 5,
   "metadata": {},
   "outputs": [
    {
     "name": "stdout",
     "output_type": "stream",
     "text": [
      "The training accuracy of two step is: 100.0%\n",
      "The test accuracy of two step is: 96.0%\n"
     ]
    }
   ],
   "source": [
    "# Define optimizer only update parameters in hidden layer.\n",
    "_optimizer = torch.optim.Adam(list(best_model.parameters())[1:], lr=0.01, weight_decay=0.0025)\n",
    "# Training\n",
    "for _ in range(100):\n",
    "    out = best_model(X)\n",
    "    loss = lf(out, Y)\n",
    "    _optimizer.zero_grad()\n",
    "    loss.backward()\n",
    "    _optimizer.step()\n",
    "\n",
    "### metric calculation\n",
    "acc_train = accuracy(best_model, X, Y)\n",
    "acc_test = accuracy(best_model, X_test, Y_test)\n",
    "print(\"The training accuracy of two step is: \", acc_train*100, \"%\", sep=\"\")\n",
    "print(\"The test accuracy of two step is: \", acc_test*100, \"%\", sep=\"\")"
   ]
  },
  {
   "cell_type": "markdown",
   "metadata": {},
   "source": [
    "The result has shown that the predictive performance of our model is increased. \n",
    "\n",
    "All good results shown above is based on the correct given $s$. However, in reality, $s$ is unknown for most of the time. So the next thing would be finding the optimal $s$\n",
    "\n",
    "### Selection of $s$\n",
    "In this section, we demonstrate the procedure of selection of optimal $s$. We have wrapped up the training procedure above in a function `training_n`. For each given $s$, $bic$, defined as $-2 \\cdot \\log \\hat{L} + s \\cdot \\log n$, of the model will be automatically calculated by `training_n`, also the trained model with the given $s$ will also be returned."
   ]
  },
  {
   "cell_type": "code",
   "execution_count": 6,
   "metadata": {},
   "outputs": [
    {
     "data": {
      "image/png": "[encoded data removed]",
      "text/plain": [
       "<Figure size 432x288 with 1 Axes>"
      ]
     },
     "metadata": {
      "needs_background": "light"
     },
     "output_type": "display_data"
    }
   ],
   "source": [
    "Ss = list(range(2, 7)) # We shorten the candidates list in the notebooks\n",
    "BIC = [] # Store the bic for different s\n",
    "best_model = Net_nonlinear(n_feature=p, n_hidden1=n_hidden1, n_hidden2=n_hidden2, n_output=2)\n",
    "for i, s in enumerate(Ss):\n",
    "    # Training dataset k with given s\n",
    "    model, supp, bic, _, [err_train, err_test] = training_n(X, Y, X_test, Y_test, c, s, \n",
    "                                                            epochs=10, Ts=25)\n",
    "    # Store bic values\n",
    "    BIC.append(bic)\n",
    "    # if current bic is the smallest, save the trained model, support and other metric\n",
    "    if bic == min(BIC):\n",
    "        best_model.load_state_dict(model.state_dict())\n",
    "        best_supp = supp\n",
    "        best_err_train, best_err_test = err_train, err_test # one step model training and testing error\n",
    "\n",
    "idx = np.argmin(BIC)\n",
    "best_s = Ss[idx]\n",
    "plt.plot(Ss, BIC)\n",
    "plt.axvline(x=best_s, ls='--', label=\"optimal s\")\n",
    "plt.legend()\n",
    "plt.show()"
   ]
  },
  {
   "cell_type": "markdown",
   "metadata": {},
   "source": [
    "From the graph above, we can tell $s=4$ is the optimal $s$, and the corresponding model is stored in `best_model` which is the same model showed in section 1.2"
   ]
  }
 ],
 "metadata": {
  "kernelspec": {
   "display_name": "Python 3 (ipykernel)",
   "language": "python",
   "name": "python3"
  },
  "language_info": {
   "codemirror_mode": {
    "name": "ipython",
    "version": 3
   },
   "file_extension": ".py",
   "mimetype": "text/x-python",
   "name": "python",
   "nbconvert_exporter": "python",
   "pygments_lexer": "ipython3",
   "version": "3.7.10"
  },
  "toc": {
   "base_numbering": 1,
   "nav_menu": {},
   "number_sections": true,
   "sideBar": true,
   "skip_h1_title": true,
   "title_cell": "Table of Contents",
   "title_sidebar": "Contents",
   "toc_cell": true,
   "toc_position": {},
   "toc_section_display": true,
   "toc_window_display": false
  },
  "varInspector": {
   "cols": {
    "lenName": 16,
    "lenType": 16,
    "lenVar": 40
   },
   "kernels_config": {
    "python": {
     "delete_cmd_postfix": "",
     "delete_cmd_prefix": "del ",
     "library": "var_list.py",
     "varRefreshCmd": "print(var_dic_list())"
    },
    "r": {
     "delete_cmd_postfix": ") ",
     "delete_cmd_prefix": "rm(",
     "library": "var_list.r",
     "varRefreshCmd": "cat(var_dic_list()) "
    }
   },
   "types_to_exclude": [
    "module",
    "function",
    "builtin_function_or_method",
    "instance",
    "_Feature"
   ],
   "window_display": false
  }
 },
 "nbformat": 4,
 "nbformat_minor": 4
}
